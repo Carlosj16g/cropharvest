{
 "cells": [
  {
   "cell_type": "markdown",
   "id": "325c9810",
   "metadata": {},
   "source": [
    "# CropHarvest Demo"
   ]
  },
  {
   "cell_type": "code",
   "execution_count": 1,
   "id": "e62c6553",
   "metadata": {},
   "outputs": [],
   "source": [
    "from cropharvest.datasets import CropHarvest"
   ]
  },
  {
   "cell_type": "code",
   "execution_count": 2,
   "id": "8e60359f",
   "metadata": {},
   "outputs": [],
   "source": [
    "DATA_DIR = \"data\""
   ]
  },
  {
   "cell_type": "code",
   "execution_count": 3,
   "id": "d8ef538e",
   "metadata": {
    "scrolled": true
   },
   "outputs": [
    {
     "name": "stderr",
     "output_type": "stream",
     "text": [
      "/Users/hkerner/src/cropharvest/cropharvest/countries.py:85: ShapelyDeprecationWarning: Iteration over multi-part geometries is deprecated and will be removed in Shapely 2.0. Use the `geoms` property to access the constituent parts of a multi-part geometry.\n",
      "  BBox.polygon_to_bbox(x, f\"{country_name}_{idx}\") for idx, x in enumerate(polygon)\n",
      "61467648it [00:05, 12048371.91it/s]                              \n",
      "782628864it [01:06, 11690693.23it/s]                               \n",
      "51953664it [00:05, 9843950.60it/s]                               \n",
      "/Users/hkerner/src/cropharvest/cropharvest/countries.py:85: ShapelyDeprecationWarning: Iteration over multi-part geometries is deprecated and will be removed in Shapely 2.0. Use the `geoms` property to access the constituent parts of a multi-part geometry.\n",
      "  BBox.polygon_to_bbox(x, f\"{country_name}_{idx}\") for idx, x in enumerate(polygon)\n",
      "/Users/hkerner/src/cropharvest/cropharvest/countries.py:85: ShapelyDeprecationWarning: Iteration over multi-part geometries is deprecated and will be removed in Shapely 2.0. Use the `geoms` property to access the constituent parts of a multi-part geometry.\n",
      "  BBox.polygon_to_bbox(x, f\"{country_name}_{idx}\") for idx, x in enumerate(polygon)\n",
      "/Users/hkerner/src/cropharvest/cropharvest/countries.py:85: ShapelyDeprecationWarning: Iteration over multi-part geometries is deprecated and will be removed in Shapely 2.0. Use the `geoms` property to access the constituent parts of a multi-part geometry.\n",
      "  BBox.polygon_to_bbox(x, f\"{country_name}_{idx}\") for idx, x in enumerate(polygon)\n"
     ]
    }
   ],
   "source": [
    "evaluation_datasets = CropHarvest.create_benchmark_datasets(DATA_DIR)"
   ]
  },
  {
   "cell_type": "code",
   "execution_count": 4,
   "id": "7cb27c0a",
   "metadata": {},
   "outputs": [
    {
     "data": {
      "text/plain": [
       "[CropHarvestEval(Kenya_1_maize, Kenya_maize),\n",
       " CropHarvestEval(Brazil_0_coffee, Brazil_coffee),\n",
       " CropHarvestEval(Togo_crop, togo-eval)]"
      ]
     },
     "execution_count": 4,
     "metadata": {},
     "output_type": "execute_result"
    }
   ],
   "source": [
    "evaluation_datasets"
   ]
  },
  {
   "cell_type": "code",
   "execution_count": 5,
   "id": "26c4a2c5",
   "metadata": {},
   "outputs": [],
   "source": [
    "# train a Random Forest model on the Togo dataset"
   ]
  },
  {
   "cell_type": "code",
   "execution_count": 6,
   "id": "413cd23b",
   "metadata": {},
   "outputs": [],
   "source": [
    "import numpy as np\n",
    "from sklearn.ensemble import RandomForestClassifier"
   ]
  },
  {
   "cell_type": "code",
   "execution_count": 7,
   "id": "8f326f27",
   "metadata": {},
   "outputs": [],
   "source": [
    "togo_dataset = evaluation_datasets[-1]\n",
    "X, y = togo_dataset.as_array(flatten_x=True)"
   ]
  },
  {
   "cell_type": "code",
   "execution_count": 8,
   "id": "3329d723",
   "metadata": {},
   "outputs": [
    {
     "data": {
      "text/plain": [
       "((1290, 216), (1290,))"
      ]
     },
     "execution_count": 8,
     "metadata": {},
     "output_type": "execute_result"
    }
   ],
   "source": [
    "X.shape, y.shape"
   ]
  },
  {
   "cell_type": "code",
   "execution_count": 9,
   "id": "8351896b",
   "metadata": {},
   "outputs": [
    {
     "data": {
      "text/plain": [
       "RandomForestClassifier()"
      ]
     },
     "execution_count": 9,
     "metadata": {},
     "output_type": "execute_result"
    }
   ],
   "source": [
    "model = RandomForestClassifier()\n",
    "model.fit(X, y)"
   ]
  },
  {
   "cell_type": "code",
   "execution_count": 10,
   "id": "0f47915e",
   "metadata": {},
   "outputs": [],
   "source": [
    "test_preds, test_instances = [], []\n",
    "for _, test_instance in togo_dataset.test_data(flatten_x=True):\n",
    "    \n",
    "    test_preds.append(model.predict_proba(test_instance.x)[:, 1])\n",
    "    test_instances.append(test_instance)"
   ]
  },
  {
   "cell_type": "code",
   "execution_count": 11,
   "id": "17f99226",
   "metadata": {},
   "outputs": [
    {
     "name": "stdout",
     "output_type": "stream",
     "text": [
      "For the Random Forest classifier, {'auc_roc': 0.8956132075471698, 'f1_score': 0.7559055118110237, 'iou': 0.6075949367088608, 'num_samples': 306}, \n"
     ]
    }
   ],
   "source": [
    "print(\n",
    "    f\"For the Random Forest classifier, \"\n",
    "    f\"{test_instances[0].evaluate_predictions(test_preds[0])}, \"\n",
    ")"
   ]
  },
  {
   "cell_type": "code",
   "execution_count": null,
   "id": "29e63cd7",
   "metadata": {},
   "outputs": [],
   "source": []
  }
 ],
 "metadata": {
  "kernelspec": {
   "display_name": "Python 3",
   "language": "python",
   "name": "python3"
  },
  "language_info": {
   "codemirror_mode": {
    "name": "ipython",
    "version": 3
   },
   "file_extension": ".py",
   "mimetype": "text/x-python",
   "name": "python",
   "nbconvert_exporter": "python",
   "pygments_lexer": "ipython3",
   "version": "3.8.8"
  }
 },
 "nbformat": 4,
 "nbformat_minor": 5
}
